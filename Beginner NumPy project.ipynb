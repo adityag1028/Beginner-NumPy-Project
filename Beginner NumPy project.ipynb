{
 "cells": [
  {
   "cell_type": "markdown",
   "id": "a4471005",
   "metadata": {},
   "source": [
    "# NumPy Project 1"
   ]
  },
  {
   "cell_type": "code",
   "execution_count": 1,
   "id": "94e97c06",
   "metadata": {},
   "outputs": [],
   "source": [
    "# NumPy is a Python library used for working with arrays. \n",
    "# It also has functions for working in domain of linear algebra, fourier transform, and matrices."
   ]
  },
  {
   "cell_type": "code",
   "execution_count": 2,
   "id": "0702237a",
   "metadata": {},
   "outputs": [],
   "source": [
    "# Features OF NUMPY:\n",
    "# It provides a high-performance multidimensional array object.\n",
    "# It includes a large collection of mathematical functions that operate on arrays.\n",
    "# It is integrated with a large number of scientific computing libraries.\n",
    "# It is open source and freely available.\n"
   ]
  },
  {
   "cell_type": "code",
   "execution_count": 3,
   "id": "e1969459",
   "metadata": {},
   "outputs": [],
   "source": [
    "# There are 217 functionalities associated with NumPy.\n",
    "# Will choose in a range of 5-10 based on their complexity and associativity to create projects."
   ]
  },
  {
   "cell_type": "markdown",
   "id": "3ec3c1f3",
   "metadata": {},
   "source": [
    "### For Day 1 we will learn about importing NumPy and basic arithmatic functions"
   ]
  },
  {
   "cell_type": "code",
   "execution_count": 12,
   "id": "b53312be",
   "metadata": {},
   "outputs": [],
   "source": [
    "import numpy as np # NumPy comes pre-installed with anaconda\n",
    "# if you haven't installed anaconda, I highly recommend to install it right away."
   ]
  },
  {
   "cell_type": "code",
   "execution_count": 18,
   "id": "a9e43531",
   "metadata": {},
   "outputs": [
    {
     "name": "stdout",
     "output_type": "stream",
     "text": [
      "Random Data:\n",
      "[[84 51 57  2 46]\n",
      " [22 71 19 22 91]\n",
      " [88 29 46  9 78]\n",
      " [32 11 18 41 13]\n",
      " [32 14 73  0 78]]\n"
     ]
    }
   ],
   "source": [
    "# Generating random data (this use case is most commonly used to generate OTP's)\n",
    "data = np.random.randint(0, 100, size=(5, 5))\n",
    "print(\"Random Data:\")\n",
    "print(data)"
   ]
  },
  {
   "cell_type": "code",
   "execution_count": 19,
   "id": "c35fd213",
   "metadata": {},
   "outputs": [
    {
     "name": "stdout",
     "output_type": "stream",
     "text": [
      "Total Sum of All Elements: 1027\n"
     ]
    }
   ],
   "source": [
    "# Calculate sum of all elements\n",
    "total_sum = np.sum(data)\n",
    "print(\"Total Sum of All Elements:\", total_sum)"
   ]
  },
  {
   "cell_type": "code",
   "execution_count": 20,
   "id": "42905498",
   "metadata": {},
   "outputs": [
    {
     "name": "stdout",
     "output_type": "stream",
     "text": [
      "Mean of All Elements: 41.08\n"
     ]
    }
   ],
   "source": [
    "# Calculate mean of all elements\n",
    "mean_value = np.mean(data)\n",
    "print(\"Mean of All Elements:\", mean_value)"
   ]
  },
  {
   "cell_type": "code",
   "execution_count": 21,
   "id": "789080ee",
   "metadata": {},
   "outputs": [
    {
     "name": "stdout",
     "output_type": "stream",
     "text": [
      "Maximum Value in Data: 91\n"
     ]
    }
   ],
   "source": [
    "# Find maximum value in the data\n",
    "max_value = np.max(data)\n",
    "print(\"Maximum Value in Data:\", max_value)"
   ]
  },
  {
   "cell_type": "code",
   "execution_count": 22,
   "id": "1c3eec93",
   "metadata": {},
   "outputs": [
    {
     "name": "stdout",
     "output_type": "stream",
     "text": [
      "Minimum Value in Data: 0\n"
     ]
    }
   ],
   "source": [
    "# Find minimum value in the data\n",
    "min_value = np.min(data)\n",
    "print(\"Minimum Value in Data:\", min_value)"
   ]
  },
  {
   "cell_type": "code",
   "execution_count": 23,
   "id": "86e85b10",
   "metadata": {},
   "outputs": [
    {
     "name": "stdout",
     "output_type": "stream",
     "text": [
      "Sum of Each Row:\n",
      "[240 225 250 115 197]\n"
     ]
    }
   ],
   "source": [
    "# Calculate sum of each row\n",
    "row_sums = np.sum(data, axis=1)\n",
    "print(\"Sum of Each Row:\")\n",
    "print(row_sums)"
   ]
  },
  {
   "cell_type": "code",
   "execution_count": 24,
   "id": "d8dd33d8",
   "metadata": {},
   "outputs": [
    {
     "name": "stdout",
     "output_type": "stream",
     "text": [
      "Sum of Each Column:\n",
      "[258 176 213  74 306]\n"
     ]
    }
   ],
   "source": [
    "# Calculate sum of each column\n",
    "column_sums = np.sum(data, axis=0)\n",
    "print(\"Sum of Each Column:\")\n",
    "print(column_sums)"
   ]
  }
 ],
 "metadata": {
  "kernelspec": {
   "display_name": "Python 3 (ipykernel)",
   "language": "python",
   "name": "python3"
  },
  "language_info": {
   "codemirror_mode": {
    "name": "ipython",
    "version": 3
   },
   "file_extension": ".py",
   "mimetype": "text/x-python",
   "name": "python",
   "nbconvert_exporter": "python",
   "pygments_lexer": "ipython3",
   "version": "3.11.7"
  }
 },
 "nbformat": 4,
 "nbformat_minor": 5
}
